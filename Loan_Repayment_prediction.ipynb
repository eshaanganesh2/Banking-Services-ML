{
  "cells": [
    {
      "cell_type": "code",
      "execution_count": 1,
      "metadata": {
        "id": "ydgbjO58mscG"
      },
      "outputs": [],
      "source": [
        "import pandas as pd\n",
        "from __future__ import print_function\n",
        "import numpy as np\n",
        "import matplotlib.pyplot as plt\n",
        "import seaborn as sns\n",
        "from sklearn.metrics import classification_report\n",
        "from sklearn import metrics\n",
        "from sklearn import tree\n",
        "import warnings\n",
        "import tensorflow as tf\n",
        "tf.__version__\n",
        "warnings.filterwarnings('ignore')"
      ]
    },
    {
      "cell_type": "code",
      "source": [
        "loan_df=pd.read_csv('customer_loans.csv')\n",
        "loan_df.head(5)"
      ],
      "metadata": {
        "id": "hUuluDQKol8-",
        "colab": {
          "base_uri": "https://localhost:8080/",
          "height": 270
        },
        "outputId": "b8e50af8-c4c4-483e-ce69-e006cafe87d7"
      },
      "execution_count": 2,
      "outputs": [
        {
          "output_type": "execute_result",
          "data": {
            "text/plain": [
              "   person_age  person_income person_home_ownership  person_emp_length  \\\n",
              "0          27          70000              MORTGAGE               11.0   \n",
              "1          32          62000                  RENT                5.0   \n",
              "2          25          57000                  RENT                3.0   \n",
              "3          33          34000                  RENT                4.0   \n",
              "4          35          62000              MORTGAGE               15.0   \n",
              "\n",
              "         loan_intent loan_grade  loan_amnt  loan_int_rate  \\\n",
              "0           PERSONAL          C       3000            NaN   \n",
              "1            MEDICAL          C      15000          12.99   \n",
              "2            MEDICAL          A       6850            NaN   \n",
              "3            MEDICAL          D      10000          15.33   \n",
              "4  DEBTCONSOLIDATION          D      10000          15.33   \n",
              "\n",
              "   loan_percent_income cb_person_default_on_file  cb_person_cred_hist_length  \\\n",
              "0                 0.04                         Y                           8   \n",
              "1                 0.24                         Y                           6   \n",
              "2                 0.12                         N                           4   \n",
              "3                 0.29                         Y                           8   \n",
              "4                 0.16                         N                          10   \n",
              "\n",
              "   loan_status  \n",
              "0            0  \n",
              "1            0  \n",
              "2            0  \n",
              "3            1  \n",
              "4            1  "
            ],
            "text/html": [
              "\n",
              "  <div id=\"df-6c45459a-71b7-429d-93b0-c0cd96d691ca\">\n",
              "    <div class=\"colab-df-container\">\n",
              "      <div>\n",
              "<style scoped>\n",
              "    .dataframe tbody tr th:only-of-type {\n",
              "        vertical-align: middle;\n",
              "    }\n",
              "\n",
              "    .dataframe tbody tr th {\n",
              "        vertical-align: top;\n",
              "    }\n",
              "\n",
              "    .dataframe thead th {\n",
              "        text-align: right;\n",
              "    }\n",
              "</style>\n",
              "<table border=\"1\" class=\"dataframe\">\n",
              "  <thead>\n",
              "    <tr style=\"text-align: right;\">\n",
              "      <th></th>\n",
              "      <th>person_age</th>\n",
              "      <th>person_income</th>\n",
              "      <th>person_home_ownership</th>\n",
              "      <th>person_emp_length</th>\n",
              "      <th>loan_intent</th>\n",
              "      <th>loan_grade</th>\n",
              "      <th>loan_amnt</th>\n",
              "      <th>loan_int_rate</th>\n",
              "      <th>loan_percent_income</th>\n",
              "      <th>cb_person_default_on_file</th>\n",
              "      <th>cb_person_cred_hist_length</th>\n",
              "      <th>loan_status</th>\n",
              "    </tr>\n",
              "  </thead>\n",
              "  <tbody>\n",
              "    <tr>\n",
              "      <th>0</th>\n",
              "      <td>27</td>\n",
              "      <td>70000</td>\n",
              "      <td>MORTGAGE</td>\n",
              "      <td>11.0</td>\n",
              "      <td>PERSONAL</td>\n",
              "      <td>C</td>\n",
              "      <td>3000</td>\n",
              "      <td>NaN</td>\n",
              "      <td>0.04</td>\n",
              "      <td>Y</td>\n",
              "      <td>8</td>\n",
              "      <td>0</td>\n",
              "    </tr>\n",
              "    <tr>\n",
              "      <th>1</th>\n",
              "      <td>32</td>\n",
              "      <td>62000</td>\n",
              "      <td>RENT</td>\n",
              "      <td>5.0</td>\n",
              "      <td>MEDICAL</td>\n",
              "      <td>C</td>\n",
              "      <td>15000</td>\n",
              "      <td>12.99</td>\n",
              "      <td>0.24</td>\n",
              "      <td>Y</td>\n",
              "      <td>6</td>\n",
              "      <td>0</td>\n",
              "    </tr>\n",
              "    <tr>\n",
              "      <th>2</th>\n",
              "      <td>25</td>\n",
              "      <td>57000</td>\n",
              "      <td>RENT</td>\n",
              "      <td>3.0</td>\n",
              "      <td>MEDICAL</td>\n",
              "      <td>A</td>\n",
              "      <td>6850</td>\n",
              "      <td>NaN</td>\n",
              "      <td>0.12</td>\n",
              "      <td>N</td>\n",
              "      <td>4</td>\n",
              "      <td>0</td>\n",
              "    </tr>\n",
              "    <tr>\n",
              "      <th>3</th>\n",
              "      <td>33</td>\n",
              "      <td>34000</td>\n",
              "      <td>RENT</td>\n",
              "      <td>4.0</td>\n",
              "      <td>MEDICAL</td>\n",
              "      <td>D</td>\n",
              "      <td>10000</td>\n",
              "      <td>15.33</td>\n",
              "      <td>0.29</td>\n",
              "      <td>Y</td>\n",
              "      <td>8</td>\n",
              "      <td>1</td>\n",
              "    </tr>\n",
              "    <tr>\n",
              "      <th>4</th>\n",
              "      <td>35</td>\n",
              "      <td>62000</td>\n",
              "      <td>MORTGAGE</td>\n",
              "      <td>15.0</td>\n",
              "      <td>DEBTCONSOLIDATION</td>\n",
              "      <td>D</td>\n",
              "      <td>10000</td>\n",
              "      <td>15.33</td>\n",
              "      <td>0.16</td>\n",
              "      <td>N</td>\n",
              "      <td>10</td>\n",
              "      <td>1</td>\n",
              "    </tr>\n",
              "  </tbody>\n",
              "</table>\n",
              "</div>\n",
              "      <button class=\"colab-df-convert\" onclick=\"convertToInteractive('df-6c45459a-71b7-429d-93b0-c0cd96d691ca')\"\n",
              "              title=\"Convert this dataframe to an interactive table.\"\n",
              "              style=\"display:none;\">\n",
              "        \n",
              "  <svg xmlns=\"http://www.w3.org/2000/svg\" height=\"24px\"viewBox=\"0 0 24 24\"\n",
              "       width=\"24px\">\n",
              "    <path d=\"M0 0h24v24H0V0z\" fill=\"none\"/>\n",
              "    <path d=\"M18.56 5.44l.94 2.06.94-2.06 2.06-.94-2.06-.94-.94-2.06-.94 2.06-2.06.94zm-11 1L8.5 8.5l.94-2.06 2.06-.94-2.06-.94L8.5 2.5l-.94 2.06-2.06.94zm10 10l.94 2.06.94-2.06 2.06-.94-2.06-.94-.94-2.06-.94 2.06-2.06.94z\"/><path d=\"M17.41 7.96l-1.37-1.37c-.4-.4-.92-.59-1.43-.59-.52 0-1.04.2-1.43.59L10.3 9.45l-7.72 7.72c-.78.78-.78 2.05 0 2.83L4 21.41c.39.39.9.59 1.41.59.51 0 1.02-.2 1.41-.59l7.78-7.78 2.81-2.81c.8-.78.8-2.07 0-2.86zM5.41 20L4 18.59l7.72-7.72 1.47 1.35L5.41 20z\"/>\n",
              "  </svg>\n",
              "      </button>\n",
              "      \n",
              "  <style>\n",
              "    .colab-df-container {\n",
              "      display:flex;\n",
              "      flex-wrap:wrap;\n",
              "      gap: 12px;\n",
              "    }\n",
              "\n",
              "    .colab-df-convert {\n",
              "      background-color: #E8F0FE;\n",
              "      border: none;\n",
              "      border-radius: 50%;\n",
              "      cursor: pointer;\n",
              "      display: none;\n",
              "      fill: #1967D2;\n",
              "      height: 32px;\n",
              "      padding: 0 0 0 0;\n",
              "      width: 32px;\n",
              "    }\n",
              "\n",
              "    .colab-df-convert:hover {\n",
              "      background-color: #E2EBFA;\n",
              "      box-shadow: 0px 1px 2px rgba(60, 64, 67, 0.3), 0px 1px 3px 1px rgba(60, 64, 67, 0.15);\n",
              "      fill: #174EA6;\n",
              "    }\n",
              "\n",
              "    [theme=dark] .colab-df-convert {\n",
              "      background-color: #3B4455;\n",
              "      fill: #D2E3FC;\n",
              "    }\n",
              "\n",
              "    [theme=dark] .colab-df-convert:hover {\n",
              "      background-color: #434B5C;\n",
              "      box-shadow: 0px 1px 3px 1px rgba(0, 0, 0, 0.15);\n",
              "      filter: drop-shadow(0px 1px 2px rgba(0, 0, 0, 0.3));\n",
              "      fill: #FFFFFF;\n",
              "    }\n",
              "  </style>\n",
              "\n",
              "      <script>\n",
              "        const buttonEl =\n",
              "          document.querySelector('#df-6c45459a-71b7-429d-93b0-c0cd96d691ca button.colab-df-convert');\n",
              "        buttonEl.style.display =\n",
              "          google.colab.kernel.accessAllowed ? 'block' : 'none';\n",
              "\n",
              "        async function convertToInteractive(key) {\n",
              "          const element = document.querySelector('#df-6c45459a-71b7-429d-93b0-c0cd96d691ca');\n",
              "          const dataTable =\n",
              "            await google.colab.kernel.invokeFunction('convertToInteractive',\n",
              "                                                     [key], {});\n",
              "          if (!dataTable) return;\n",
              "\n",
              "          const docLinkHtml = 'Like what you see? Visit the ' +\n",
              "            '<a target=\"_blank\" href=https://colab.research.google.com/notebooks/data_table.ipynb>data table notebook</a>'\n",
              "            + ' to learn more about interactive tables.';\n",
              "          element.innerHTML = '';\n",
              "          dataTable['output_type'] = 'display_data';\n",
              "          await google.colab.output.renderOutput(dataTable, element);\n",
              "          const docLink = document.createElement('div');\n",
              "          docLink.innerHTML = docLinkHtml;\n",
              "          element.appendChild(docLink);\n",
              "        }\n",
              "      </script>\n",
              "    </div>\n",
              "  </div>\n",
              "  "
            ]
          },
          "metadata": {},
          "execution_count": 2
        }
      ]
    },
    {
      "cell_type": "markdown",
      "source": [
        "## Data Preprocessing Steps"
      ],
      "metadata": {
        "id": "wDS7SmkKw9IF"
      }
    },
    {
      "cell_type": "code",
      "source": [
        "loan_df.shape"
      ],
      "metadata": {
        "colab": {
          "base_uri": "https://localhost:8080/"
        },
        "id": "OvKRbH861S4J",
        "outputId": "3b2f7bb6-bf92-47c1-a56e-7f6b0f2fce4d"
      },
      "execution_count": 3,
      "outputs": [
        {
          "output_type": "execute_result",
          "data": {
            "text/plain": [
              "(10000, 12)"
            ]
          },
          "metadata": {},
          "execution_count": 3
        }
      ]
    },
    {
      "cell_type": "code",
      "source": [
        "loan_df.columns"
      ],
      "metadata": {
        "colab": {
          "base_uri": "https://localhost:8080/"
        },
        "id": "BX23Tckv1WBN",
        "outputId": "b185b591-ac1e-490c-b260-43fa46664872"
      },
      "execution_count": 4,
      "outputs": [
        {
          "output_type": "execute_result",
          "data": {
            "text/plain": [
              "Index(['person_age', 'person_income', 'person_home_ownership',\n",
              "       'person_emp_length', 'loan_intent', 'loan_grade', 'loan_amnt',\n",
              "       'loan_int_rate', 'loan_percent_income', 'cb_person_default_on_file',\n",
              "       'cb_person_cred_hist_length', 'loan_status'],\n",
              "      dtype='object')"
            ]
          },
          "metadata": {},
          "execution_count": 4
        }
      ]
    },
    {
      "cell_type": "code",
      "source": [
        "loan_df.info()"
      ],
      "metadata": {
        "colab": {
          "base_uri": "https://localhost:8080/"
        },
        "id": "vpNtyOeT1YjL",
        "outputId": "ac484b34-3aff-4b8b-8b98-71f2e7193c4f"
      },
      "execution_count": 5,
      "outputs": [
        {
          "output_type": "stream",
          "name": "stdout",
          "text": [
            "<class 'pandas.core.frame.DataFrame'>\n",
            "RangeIndex: 10000 entries, 0 to 9999\n",
            "Data columns (total 12 columns):\n",
            " #   Column                      Non-Null Count  Dtype  \n",
            "---  ------                      --------------  -----  \n",
            " 0   person_age                  10000 non-null  int64  \n",
            " 1   person_income               10000 non-null  int64  \n",
            " 2   person_home_ownership       10000 non-null  object \n",
            " 3   person_emp_length           9709 non-null   float64\n",
            " 4   loan_intent                 10000 non-null  object \n",
            " 5   loan_grade                  10000 non-null  object \n",
            " 6   loan_amnt                   10000 non-null  int64  \n",
            " 7   loan_int_rate               9015 non-null   float64\n",
            " 8   loan_percent_income         10000 non-null  float64\n",
            " 9   cb_person_default_on_file   10000 non-null  object \n",
            " 10  cb_person_cred_hist_length  10000 non-null  int64  \n",
            " 11  loan_status                 10000 non-null  int64  \n",
            "dtypes: float64(3), int64(5), object(4)\n",
            "memory usage: 937.6+ KB\n"
          ]
        }
      ]
    },
    {
      "cell_type": "code",
      "source": [
        "loan_df.describe()"
      ],
      "metadata": {
        "colab": {
          "base_uri": "https://localhost:8080/",
          "height": 364
        },
        "id": "HOJyD-fa1ceI",
        "outputId": "c80efec6-4e04-45eb-fe86-ab98e320a9e1"
      },
      "execution_count": 6,
      "outputs": [
        {
          "output_type": "execute_result",
          "data": {
            "text/plain": [
              "         person_age  person_income  person_emp_length     loan_amnt  \\\n",
              "count  10000.000000   1.000000e+04        9709.000000  10000.000000   \n",
              "mean      27.658300   6.656156e+04           4.794727   9637.337500   \n",
              "std        6.274032   5.570718e+04           4.216092   6425.962537   \n",
              "min       20.000000   6.000000e+03           0.000000    500.000000   \n",
              "25%       23.000000   3.879875e+04           2.000000   5000.000000   \n",
              "50%       26.000000   5.503900e+04           4.000000   8000.000000   \n",
              "75%       30.000000   8.000000e+04           7.000000  12275.000000   \n",
              "max      144.000000   2.039784e+06         123.000000  35000.000000   \n",
              "\n",
              "       loan_int_rate  loan_percent_income  cb_person_cred_hist_length  \\\n",
              "count    9015.000000         10000.000000                10000.000000   \n",
              "mean       11.010956             0.169710                    5.758800   \n",
              "std         3.249357             0.106394                    4.017043   \n",
              "min         5.420000             0.000000                    2.000000   \n",
              "25%         7.900000             0.090000                    3.000000   \n",
              "50%        10.990000             0.150000                    4.000000   \n",
              "75%        13.470000             0.230000                    8.000000   \n",
              "max        22.110000             0.770000                   30.000000   \n",
              "\n",
              "        loan_status  \n",
              "count  10000.000000  \n",
              "mean       0.222900  \n",
              "std        0.416213  \n",
              "min        0.000000  \n",
              "25%        0.000000  \n",
              "50%        0.000000  \n",
              "75%        0.000000  \n",
              "max        1.000000  "
            ],
            "text/html": [
              "\n",
              "  <div id=\"df-8df40377-13bf-4485-a8a8-cd74f46d10f4\">\n",
              "    <div class=\"colab-df-container\">\n",
              "      <div>\n",
              "<style scoped>\n",
              "    .dataframe tbody tr th:only-of-type {\n",
              "        vertical-align: middle;\n",
              "    }\n",
              "\n",
              "    .dataframe tbody tr th {\n",
              "        vertical-align: top;\n",
              "    }\n",
              "\n",
              "    .dataframe thead th {\n",
              "        text-align: right;\n",
              "    }\n",
              "</style>\n",
              "<table border=\"1\" class=\"dataframe\">\n",
              "  <thead>\n",
              "    <tr style=\"text-align: right;\">\n",
              "      <th></th>\n",
              "      <th>person_age</th>\n",
              "      <th>person_income</th>\n",
              "      <th>person_emp_length</th>\n",
              "      <th>loan_amnt</th>\n",
              "      <th>loan_int_rate</th>\n",
              "      <th>loan_percent_income</th>\n",
              "      <th>cb_person_cred_hist_length</th>\n",
              "      <th>loan_status</th>\n",
              "    </tr>\n",
              "  </thead>\n",
              "  <tbody>\n",
              "    <tr>\n",
              "      <th>count</th>\n",
              "      <td>10000.000000</td>\n",
              "      <td>1.000000e+04</td>\n",
              "      <td>9709.000000</td>\n",
              "      <td>10000.000000</td>\n",
              "      <td>9015.000000</td>\n",
              "      <td>10000.000000</td>\n",
              "      <td>10000.000000</td>\n",
              "      <td>10000.000000</td>\n",
              "    </tr>\n",
              "    <tr>\n",
              "      <th>mean</th>\n",
              "      <td>27.658300</td>\n",
              "      <td>6.656156e+04</td>\n",
              "      <td>4.794727</td>\n",
              "      <td>9637.337500</td>\n",
              "      <td>11.010956</td>\n",
              "      <td>0.169710</td>\n",
              "      <td>5.758800</td>\n",
              "      <td>0.222900</td>\n",
              "    </tr>\n",
              "    <tr>\n",
              "      <th>std</th>\n",
              "      <td>6.274032</td>\n",
              "      <td>5.570718e+04</td>\n",
              "      <td>4.216092</td>\n",
              "      <td>6425.962537</td>\n",
              "      <td>3.249357</td>\n",
              "      <td>0.106394</td>\n",
              "      <td>4.017043</td>\n",
              "      <td>0.416213</td>\n",
              "    </tr>\n",
              "    <tr>\n",
              "      <th>min</th>\n",
              "      <td>20.000000</td>\n",
              "      <td>6.000000e+03</td>\n",
              "      <td>0.000000</td>\n",
              "      <td>500.000000</td>\n",
              "      <td>5.420000</td>\n",
              "      <td>0.000000</td>\n",
              "      <td>2.000000</td>\n",
              "      <td>0.000000</td>\n",
              "    </tr>\n",
              "    <tr>\n",
              "      <th>25%</th>\n",
              "      <td>23.000000</td>\n",
              "      <td>3.879875e+04</td>\n",
              "      <td>2.000000</td>\n",
              "      <td>5000.000000</td>\n",
              "      <td>7.900000</td>\n",
              "      <td>0.090000</td>\n",
              "      <td>3.000000</td>\n",
              "      <td>0.000000</td>\n",
              "    </tr>\n",
              "    <tr>\n",
              "      <th>50%</th>\n",
              "      <td>26.000000</td>\n",
              "      <td>5.503900e+04</td>\n",
              "      <td>4.000000</td>\n",
              "      <td>8000.000000</td>\n",
              "      <td>10.990000</td>\n",
              "      <td>0.150000</td>\n",
              "      <td>4.000000</td>\n",
              "      <td>0.000000</td>\n",
              "    </tr>\n",
              "    <tr>\n",
              "      <th>75%</th>\n",
              "      <td>30.000000</td>\n",
              "      <td>8.000000e+04</td>\n",
              "      <td>7.000000</td>\n",
              "      <td>12275.000000</td>\n",
              "      <td>13.470000</td>\n",
              "      <td>0.230000</td>\n",
              "      <td>8.000000</td>\n",
              "      <td>0.000000</td>\n",
              "    </tr>\n",
              "    <tr>\n",
              "      <th>max</th>\n",
              "      <td>144.000000</td>\n",
              "      <td>2.039784e+06</td>\n",
              "      <td>123.000000</td>\n",
              "      <td>35000.000000</td>\n",
              "      <td>22.110000</td>\n",
              "      <td>0.770000</td>\n",
              "      <td>30.000000</td>\n",
              "      <td>1.000000</td>\n",
              "    </tr>\n",
              "  </tbody>\n",
              "</table>\n",
              "</div>\n",
              "      <button class=\"colab-df-convert\" onclick=\"convertToInteractive('df-8df40377-13bf-4485-a8a8-cd74f46d10f4')\"\n",
              "              title=\"Convert this dataframe to an interactive table.\"\n",
              "              style=\"display:none;\">\n",
              "        \n",
              "  <svg xmlns=\"http://www.w3.org/2000/svg\" height=\"24px\"viewBox=\"0 0 24 24\"\n",
              "       width=\"24px\">\n",
              "    <path d=\"M0 0h24v24H0V0z\" fill=\"none\"/>\n",
              "    <path d=\"M18.56 5.44l.94 2.06.94-2.06 2.06-.94-2.06-.94-.94-2.06-.94 2.06-2.06.94zm-11 1L8.5 8.5l.94-2.06 2.06-.94-2.06-.94L8.5 2.5l-.94 2.06-2.06.94zm10 10l.94 2.06.94-2.06 2.06-.94-2.06-.94-.94-2.06-.94 2.06-2.06.94z\"/><path d=\"M17.41 7.96l-1.37-1.37c-.4-.4-.92-.59-1.43-.59-.52 0-1.04.2-1.43.59L10.3 9.45l-7.72 7.72c-.78.78-.78 2.05 0 2.83L4 21.41c.39.39.9.59 1.41.59.51 0 1.02-.2 1.41-.59l7.78-7.78 2.81-2.81c.8-.78.8-2.07 0-2.86zM5.41 20L4 18.59l7.72-7.72 1.47 1.35L5.41 20z\"/>\n",
              "  </svg>\n",
              "      </button>\n",
              "      \n",
              "  <style>\n",
              "    .colab-df-container {\n",
              "      display:flex;\n",
              "      flex-wrap:wrap;\n",
              "      gap: 12px;\n",
              "    }\n",
              "\n",
              "    .colab-df-convert {\n",
              "      background-color: #E8F0FE;\n",
              "      border: none;\n",
              "      border-radius: 50%;\n",
              "      cursor: pointer;\n",
              "      display: none;\n",
              "      fill: #1967D2;\n",
              "      height: 32px;\n",
              "      padding: 0 0 0 0;\n",
              "      width: 32px;\n",
              "    }\n",
              "\n",
              "    .colab-df-convert:hover {\n",
              "      background-color: #E2EBFA;\n",
              "      box-shadow: 0px 1px 2px rgba(60, 64, 67, 0.3), 0px 1px 3px 1px rgba(60, 64, 67, 0.15);\n",
              "      fill: #174EA6;\n",
              "    }\n",
              "\n",
              "    [theme=dark] .colab-df-convert {\n",
              "      background-color: #3B4455;\n",
              "      fill: #D2E3FC;\n",
              "    }\n",
              "\n",
              "    [theme=dark] .colab-df-convert:hover {\n",
              "      background-color: #434B5C;\n",
              "      box-shadow: 0px 1px 3px 1px rgba(0, 0, 0, 0.15);\n",
              "      filter: drop-shadow(0px 1px 2px rgba(0, 0, 0, 0.3));\n",
              "      fill: #FFFFFF;\n",
              "    }\n",
              "  </style>\n",
              "\n",
              "      <script>\n",
              "        const buttonEl =\n",
              "          document.querySelector('#df-8df40377-13bf-4485-a8a8-cd74f46d10f4 button.colab-df-convert');\n",
              "        buttonEl.style.display =\n",
              "          google.colab.kernel.accessAllowed ? 'block' : 'none';\n",
              "\n",
              "        async function convertToInteractive(key) {\n",
              "          const element = document.querySelector('#df-8df40377-13bf-4485-a8a8-cd74f46d10f4');\n",
              "          const dataTable =\n",
              "            await google.colab.kernel.invokeFunction('convertToInteractive',\n",
              "                                                     [key], {});\n",
              "          if (!dataTable) return;\n",
              "\n",
              "          const docLinkHtml = 'Like what you see? Visit the ' +\n",
              "            '<a target=\"_blank\" href=https://colab.research.google.com/notebooks/data_table.ipynb>data table notebook</a>'\n",
              "            + ' to learn more about interactive tables.';\n",
              "          element.innerHTML = '';\n",
              "          dataTable['output_type'] = 'display_data';\n",
              "          await google.colab.output.renderOutput(dataTable, element);\n",
              "          const docLink = document.createElement('div');\n",
              "          docLink.innerHTML = docLinkHtml;\n",
              "          element.appendChild(docLink);\n",
              "        }\n",
              "      </script>\n",
              "    </div>\n",
              "  </div>\n",
              "  "
            ]
          },
          "metadata": {},
          "execution_count": 6
        }
      ]
    },
    {
      "cell_type": "code",
      "source": [
        "loan_df.isnull().sum()"
      ],
      "metadata": {
        "colab": {
          "base_uri": "https://localhost:8080/"
        },
        "id": "Q06ibIMn1fzo",
        "outputId": "87c01955-2c4b-4cde-9bde-490926dbce60"
      },
      "execution_count": 7,
      "outputs": [
        {
          "output_type": "execute_result",
          "data": {
            "text/plain": [
              "person_age                      0\n",
              "person_income                   0\n",
              "person_home_ownership           0\n",
              "person_emp_length             291\n",
              "loan_intent                     0\n",
              "loan_grade                      0\n",
              "loan_amnt                       0\n",
              "loan_int_rate                 985\n",
              "loan_percent_income             0\n",
              "cb_person_default_on_file       0\n",
              "cb_person_cred_hist_length      0\n",
              "loan_status                     0\n",
              "dtype: int64"
            ]
          },
          "metadata": {},
          "execution_count": 7
        }
      ]
    },
    {
      "cell_type": "code",
      "source": [
        "loan_df[\"person_emp_length\"].fillna(loan_df[\"person_emp_length\"].median(), inplace=True)"
      ],
      "metadata": {
        "id": "ujE0uU3r1ixN"
      },
      "execution_count": 8,
      "outputs": []
    },
    {
      "cell_type": "code",
      "source": [
        "loan_df[\"loan_int_rate\"].fillna(loan_df[\"loan_int_rate\"].median(), inplace=True)"
      ],
      "metadata": {
        "id": "CkjN2ycW1lM1"
      },
      "execution_count": 9,
      "outputs": []
    },
    {
      "cell_type": "code",
      "source": [
        "loan_df.isnull().sum()"
      ],
      "metadata": {
        "colab": {
          "base_uri": "https://localhost:8080/"
        },
        "id": "mRQoJ3Hq1r3I",
        "outputId": "62944a9e-4100-4d0a-acc0-dd7d762c6887"
      },
      "execution_count": 10,
      "outputs": [
        {
          "output_type": "execute_result",
          "data": {
            "text/plain": [
              "person_age                    0\n",
              "person_income                 0\n",
              "person_home_ownership         0\n",
              "person_emp_length             0\n",
              "loan_intent                   0\n",
              "loan_grade                    0\n",
              "loan_amnt                     0\n",
              "loan_int_rate                 0\n",
              "loan_percent_income           0\n",
              "cb_person_default_on_file     0\n",
              "cb_person_cred_hist_length    0\n",
              "loan_status                   0\n",
              "dtype: int64"
            ]
          },
          "metadata": {},
          "execution_count": 10
        }
      ]
    },
    {
      "cell_type": "code",
      "source": [
        "loan_df.duplicated().sum()"
      ],
      "metadata": {
        "colab": {
          "base_uri": "https://localhost:8080/"
        },
        "id": "9du2ya0z1uzl",
        "outputId": "e61e8c35-1c22-46f1-fbaf-eb70c729fb31"
      },
      "execution_count": 11,
      "outputs": [
        {
          "output_type": "execute_result",
          "data": {
            "text/plain": [
              "19"
            ]
          },
          "metadata": {},
          "execution_count": 11
        }
      ]
    },
    {
      "cell_type": "code",
      "source": [
        "loan_df.drop_duplicates(inplace=True)"
      ],
      "metadata": {
        "id": "k5LsL3r83pVt"
      },
      "execution_count": 12,
      "outputs": []
    },
    {
      "cell_type": "code",
      "source": [
        "def find_outliers(df, col):\n",
        "    Q1 = df[col].quantile(0.25)\n",
        "    Q3 = df[col].quantile(0.75)\n",
        "    IQR = Q3 - Q1\n",
        "    return df[(df[col] < Q1 - 1.5*IQR) | (df[col] > Q3 + 1.5*IQR)]"
      ],
      "metadata": {
        "id": "2jrI6F_h3s8W"
      },
      "execution_count": 13,
      "outputs": []
    },
    {
      "cell_type": "code",
      "source": [
        "likely_outlier_cols = [\"person_age\",\"person_income\",\"person_emp_length\",\"cb_person_cred_hist_length\"]\n",
        "for col in likely_outlier_cols:\n",
        "    print(find_outliers(loan_df, col).shape)"
      ],
      "metadata": {
        "colab": {
          "base_uri": "https://localhost:8080/"
        },
        "id": "AKUxSc8y3vIP",
        "outputId": "39058a6a-e8ce-495c-efef-a8e21301e898"
      },
      "execution_count": 14,
      "outputs": [
        {
          "output_type": "stream",
          "name": "stdout",
          "text": [
            "(459, 12)\n",
            "(487, 12)\n",
            "(257, 12)\n",
            "(329, 12)\n"
          ]
        }
      ]
    },
    {
      "cell_type": "code",
      "source": [
        "# box plot for continuous variables\n",
        "plt.figure(figsize=(15,15))\n",
        "loan_df[['person_age','person_income','person_emp_length','loan_amnt','loan_int_rate','loan_status','loan_percent_income','cb_person_cred_hist_length']].boxplot(vert=0)"
      ],
      "metadata": {
        "colab": {
          "base_uri": "https://localhost:8080/",
          "height": 894
        },
        "id": "ZkxXwKV-3xtH",
        "outputId": "b54cd034-6a59-4e50-9959-31dc6c67752d"
      },
      "execution_count": 15,
      "outputs": [
        {
          "output_type": "execute_result",
          "data": {
            "text/plain": [
              "<matplotlib.axes._subplots.AxesSubplot at 0x7f00e3272290>"
            ]
          },
          "metadata": {},
          "execution_count": 15
        },
        {
          "output_type": "display_data",
          "data": {
            "text/plain": [
              "<Figure size 1080x1080 with 1 Axes>"
            ],
            "image/png": "[encoded data removed]"
          },
          "metadata": {
            "needs_background": "light"
          }
        }
      ]
    },
    {
      "cell_type": "code",
      "source": [
        "def remove_outliers(df, col):\n",
        "    Q1 = df[col].quantile(0.25)\n",
        "    Q3 = df[col].quantile(0.75)\n",
        "    IQR = Q3 - Q1\n",
        "    lower_range = Q1 - 1.5*IQR\n",
        "    upper_range = Q3 + 1.5*IQR\n",
        "    df[col] = np.where(df[col]>upper_range, upper_range, df[col])\n",
        "    df[col] = np.where(df[col]<lower_range, lower_range, df[col])\n",
        "    return df\n",
        "for col in likely_outlier_cols:\n",
        "    remove_outliers(loan_df, col)"
      ],
      "metadata": {
        "id": "_NlPzVgp31B6"
      },
      "execution_count": 16,
      "outputs": []
    },
    {
      "cell_type": "code",
      "source": [
        "# construct box plot for continuous variables\n",
        "plt.figure(figsize=(15,15))\n",
        "loan_df[['person_age','person_income','person_emp_length','loan_amnt','loan_int_rate','loan_status','loan_percent_income','cb_person_cred_hist_length']].boxplot(vert=0)"
      ],
      "metadata": {
        "colab": {
          "base_uri": "https://localhost:8080/",
          "height": 881
        },
        "id": "nCts6-pH33tW",
        "outputId": "8be4a2cc-379c-4fff-a7f9-21b120979857"
      },
      "execution_count": 17,
      "outputs": [
        {
          "output_type": "execute_result",
          "data": {
            "text/plain": [
              "<matplotlib.axes._subplots.AxesSubplot at 0x7f00e3289890>"
            ]
          },
          "metadata": {},
          "execution_count": 17
        },
        {
          "output_type": "display_data",
          "data": {
            "text/plain": [
              "<Figure size 1080x1080 with 1 Axes>"
            ],
            "image/png": "[encoded data removed]"
          },
          "metadata": {
            "needs_background": "light"
          }
        }
      ]
    },
    {
      "cell_type": "code",
      "source": [
        "plt.figure(figsize=(10,8))\n",
        "sns.heatmap(loan_df.corr(), annot=True, cmap=\"RdBu\")\n",
        "plt.title(\"Correlations Between Variables\", size=15)\n",
        "plt.show()"
      ],
      "metadata": {
        "colab": {
          "base_uri": "https://localhost:8080/",
          "height": 629
        },
        "id": "TupAl97X35od",
        "outputId": "ed58a8e8-4e77-44df-c96d-74820ecb572e"
      },
      "execution_count": 18,
      "outputs": [
        {
          "output_type": "display_data",
          "data": {
            "text/plain": [
              "<Figure size 720x576 with 2 Axes>"
            ],
            "image/png": "[encoded data removed]"
          },
          "metadata": {
            "needs_background": "light"
          }
        }
      ]
    },
    {
      "cell_type": "code",
      "source": [
        "loan_df.person_home_ownership = loan_df.person_home_ownership.str.replace('RENT', '0')\n",
        "loan_df.person_home_ownership = loan_df.person_home_ownership.str.replace('MORTGAGE', '1')\n",
        "loan_df.person_home_ownership = loan_df.person_home_ownership.str.replace('OWN', '2')\n",
        "loan_df.person_home_ownership = loan_df.person_home_ownership.str.replace('OTHER', '3')\n",
        "\n",
        "loan_df.loan_intent = loan_df.loan_intent.str.replace('EDUCATION', '0')\n",
        "loan_df.loan_intent = loan_df.loan_intent.str.replace('MEDICAL', '1')\n",
        "loan_df.loan_intent = loan_df.loan_intent.str.replace('VENTURE', '2')\n",
        "loan_df.loan_intent = loan_df.loan_intent.str.replace('PERSONAL', '3')\n",
        "loan_df.loan_intent = loan_df.loan_intent.str.replace('DEBTCONSOLIDATION', '4')\n",
        "loan_df.loan_intent = loan_df.loan_intent.str.replace('HOMEIMPROVEMENT', '5')\n",
        "\n",
        "loan_df.loan_grade = loan_df.loan_grade.str.replace('A', '0')\n",
        "loan_df.loan_grade = loan_df.loan_grade.str.replace('B', '1')\n",
        "loan_df.loan_grade = loan_df.loan_grade.str.replace('C', '2')\n",
        "loan_df.loan_grade = loan_df.loan_grade.str.replace('D', '3')\n",
        "loan_df.loan_grade = loan_df.loan_grade.str.replace('E', '4')\n",
        "loan_df.loan_grade = loan_df.loan_grade.str.replace('F', '5')\n",
        "loan_df.loan_grade = loan_df.loan_grade.str.replace('G', '6')\n",
        "\n",
        "loan_df.cb_person_default_on_file = loan_df.cb_person_default_on_file.str.replace('N', '0')\n",
        "loan_df.cb_person_default_on_file = loan_df.cb_person_default_on_file.str.replace('Y', '1')"
      ],
      "metadata": {
        "id": "UedkC1q-38SN"
      },
      "execution_count": 19,
      "outputs": []
    },
    {
      "cell_type": "code",
      "source": [
        "from sklearn.preprocessing import LabelEncoder\n",
        "le = LabelEncoder()\n",
        "loan_dfx = loan_df.iloc[:,:-1].values\n",
        "loan_dfy = loan_df.iloc[:,-1].values\n",
        "loan_dfx[:, 2] = le.fit_transform(loan_dfx[:, 2])\n",
        "loan_dfx[:, 4] = le.fit_transform(loan_dfx[:, 4])\n",
        "loan_dfx[:, 5] = le.fit_transform(loan_dfx[:, 5])\n",
        "loan_dfx[:, 9] = le.fit_transform(loan_dfx[:, 9])"
      ],
      "metadata": {
        "id": "aBnyjai94CMU"
      },
      "execution_count": 20,
      "outputs": []
    },
    {
      "cell_type": "code",
      "source": [
        "loan_dfx"
      ],
      "metadata": {
        "colab": {
          "base_uri": "https://localhost:8080/"
        },
        "id": "j-ODqcl24E2_",
        "outputId": "1a17c640-c453-441d-ff9f-10e38b18dc4a"
      },
      "execution_count": 21,
      "outputs": [
        {
          "output_type": "execute_result",
          "data": {
            "text/plain": [
              "array([[27.0, 70000.0, 1, ..., 0.04, 1, 8.0],\n",
              "       [32.0, 62000.0, 0, ..., 0.24, 1, 6.0],\n",
              "       [25.0, 57000.0, 0, ..., 0.12, 0, 4.0],\n",
              "       ...,\n",
              "       [24.0, 60000.0, 1, ..., 0.04, 0, 4.0],\n",
              "       [27.0, 120000.0, 1, ..., 0.12, 0, 7.0],\n",
              "       [26.0, 51996.0, 1, ..., 0.35, 0, 3.0]], dtype=object)"
            ]
          },
          "metadata": {},
          "execution_count": 21
        }
      ]
    },
    {
      "cell_type": "code",
      "source": [
        "loan_dfx[0]"
      ],
      "metadata": {
        "colab": {
          "base_uri": "https://localhost:8080/"
        },
        "id": "uaXmFMH94G6T",
        "outputId": "230941d3-40f1-4d8f-fdd2-4c3086ed1d6d"
      },
      "execution_count": 22,
      "outputs": [
        {
          "output_type": "execute_result",
          "data": {
            "text/plain": [
              "array([27.0, 70000.0, 1, 11.0, 3, 2, 3000, 10.99, 0.04, 1, 8.0],\n",
              "      dtype=object)"
            ]
          },
          "metadata": {},
          "execution_count": 22
        }
      ]
    },
    {
      "cell_type": "code",
      "source": [
        "from sklearn.model_selection import train_test_split\n",
        "Xtrain, Xtest, Ytrain, Ytest = train_test_split(loan_dfx,loan_dfy,test_size = 0.2,random_state =2)"
      ],
      "metadata": {
        "id": "RNeutuLo4JHF"
      },
      "execution_count": 23,
      "outputs": []
    },
    {
      "cell_type": "code",
      "source": [
        "Xtrain"
      ],
      "metadata": {
        "colab": {
          "base_uri": "https://localhost:8080/"
        },
        "id": "oS_6extb4L28",
        "outputId": "00c238f1-e8d8-4654-e96c-6f3a5debe85a"
      },
      "execution_count": 24,
      "outputs": [
        {
          "output_type": "execute_result",
          "data": {
            "text/plain": [
              "array([[23.0, 45996.0, 2, ..., 0.22, 0, 3.0],\n",
              "       [30.0, 58000.0, 1, ..., 0.09, 0, 9.0],\n",
              "       [28.0, 50000.0, 0, ..., 0.08, 0, 10.0],\n",
              "       ...,\n",
              "       [24.0, 26400.0, 0, ..., 0.19, 0, 4.0],\n",
              "       [27.0, 127000.0, 1, ..., 0.17, 0, 5.0],\n",
              "       [25.0, 35000.0, 0, ..., 0.03, 0, 3.0]], dtype=object)"
            ]
          },
          "metadata": {},
          "execution_count": 24
        }
      ]
    },
    {
      "cell_type": "code",
      "source": [
        "# Initialzing empty lists to append all model's name and corresponding name\n",
        "acc = []\n",
        "model = []"
      ],
      "metadata": {
        "id": "qQqxnmz34OQP"
      },
      "execution_count": 25,
      "outputs": []
    },
    {
      "cell_type": "code",
      "source": [
        "from sklearn.tree import DecisionTreeClassifier\n",
        "\n",
        "DecisionTree = DecisionTreeClassifier(criterion=\"entropy\",random_state=2,max_depth=5)\n",
        "\n",
        "DecisionTree.fit(Xtrain,Ytrain)\n",
        "\n",
        "predicted_values = DecisionTree.predict(Xtest)\n",
        "x = metrics.accuracy_score(Ytest, predicted_values)\n",
        "acc.append(x)\n",
        "model.append('Decision Tree')\n",
        "print(\"DecisionTrees's Accuracy is: \", x*100)\n",
        "\n",
        "print(classification_report(Ytest,predicted_values))"
      ],
      "metadata": {
        "colab": {
          "base_uri": "https://localhost:8080/"
        },
        "id": "5AILHK4q4QoP",
        "outputId": "0151c272-cc5c-40a2-a0a8-a30013abeb19"
      },
      "execution_count": 26,
      "outputs": [
        {
          "output_type": "stream",
          "name": "stdout",
          "text": [
            "DecisionTrees's Accuracy is:  91.13670505758637\n",
            "              precision    recall  f1-score   support\n",
            "\n",
            "           0       0.91      0.99      0.95      1557\n",
            "           1       0.93      0.65      0.76       440\n",
            "\n",
            "    accuracy                           0.91      1997\n",
            "   macro avg       0.92      0.82      0.85      1997\n",
            "weighted avg       0.91      0.91      0.91      1997\n",
            "\n"
          ]
        }
      ]
    },
    {
      "cell_type": "code",
      "source": [
        "from sklearn.model_selection import cross_val_score\n",
        "score = cross_val_score(DecisionTree, loan_dfx, loan_dfy,cv=5)\n",
        "score"
      ],
      "metadata": {
        "colab": {
          "base_uri": "https://localhost:8080/"
        },
        "id": "-FaLqcrE4SHj",
        "outputId": "be5b301e-2928-4958-b5fd-f3e6830d517b"
      },
      "execution_count": 27,
      "outputs": [
        {
          "output_type": "execute_result",
          "data": {
            "text/plain": [
              "array([0.89884827, 0.92034068, 0.91082164, 0.91232465, 0.90881764])"
            ]
          },
          "metadata": {},
          "execution_count": 27
        }
      ]
    },
    {
      "cell_type": "code",
      "source": [
        "# Gausian Naive Bayes\n",
        "from sklearn.naive_bayes import GaussianNB\n",
        "\n",
        "NaiveBayes = GaussianNB()\n",
        "\n",
        "NaiveBayes.fit(Xtrain,Ytrain)\n",
        "\n",
        "predicted_values = NaiveBayes.predict(Xtest)\n",
        "x = metrics.accuracy_score(Ytest, predicted_values)\n",
        "acc.append(x)\n",
        "model.append('Naive Bayes')\n",
        "print(\"Naive Bayes's Accuracy is: \", x)\n",
        "\n",
        "print(classification_report(Ytest,predicted_values))"
      ],
      "metadata": {
        "colab": {
          "base_uri": "https://localhost:8080/"
        },
        "id": "rxM-_gM24U09",
        "outputId": "f434f7f0-83c6-46af-f233-33267fbdc085"
      },
      "execution_count": 28,
      "outputs": [
        {
          "output_type": "stream",
          "name": "stdout",
          "text": [
            "Naive Bayes's Accuracy is:  0.8367551326990486\n",
            "              precision    recall  f1-score   support\n",
            "\n",
            "           0       0.85      0.95      0.90      1557\n",
            "           1       0.72      0.43      0.54       440\n",
            "\n",
            "    accuracy                           0.84      1997\n",
            "   macro avg       0.79      0.69      0.72      1997\n",
            "weighted avg       0.82      0.84      0.82      1997\n",
            "\n"
          ]
        }
      ]
    },
    {
      "cell_type": "code",
      "source": [
        "# SVM\n",
        "from sklearn.svm import SVC\n",
        "# data normalization with sklearn\n",
        "from sklearn.preprocessing import MinMaxScaler\n",
        "# fit scaler on training data\n",
        "norm = MinMaxScaler().fit(Xtrain)\n",
        "X_train_norm = norm.transform(Xtrain)\n",
        "# transform testing dataabs\n",
        "X_test_norm = norm.transform(Xtest)\n",
        "SVM = SVC(kernel='poly', degree=3, C=1)\n",
        "SVM.fit(X_train_norm,Ytrain)\n",
        "predicted_values = SVM.predict(X_test_norm)\n",
        "x = metrics.accuracy_score(Ytest, predicted_values)\n",
        "acc.append(x)\n",
        "model.append('SVM')\n",
        "print(\"SVM's Accuracy is: \", x)\n",
        "\n",
        "print(classification_report(Ytest,predicted_values))"
      ],
      "metadata": {
        "colab": {
          "base_uri": "https://localhost:8080/"
        },
        "id": "wdE2bfy_4XFq",
        "outputId": "c5fa421f-9dbc-42a7-bd94-d6f2d95a49ea"
      },
      "execution_count": 29,
      "outputs": [
        {
          "output_type": "stream",
          "name": "stdout",
          "text": [
            "SVM's Accuracy is:  0.8743114672008012\n",
            "              precision    recall  f1-score   support\n",
            "\n",
            "           0       0.87      0.98      0.92      1557\n",
            "           1       0.88      0.50      0.64       440\n",
            "\n",
            "    accuracy                           0.87      1997\n",
            "   macro avg       0.88      0.74      0.78      1997\n",
            "weighted avg       0.87      0.87      0.86      1997\n",
            "\n"
          ]
        }
      ]
    },
    {
      "cell_type": "code",
      "source": [
        "# Logistic Regression\n",
        "from sklearn.linear_model import LogisticRegression\n",
        "\n",
        "LogReg = LogisticRegression(random_state=2)\n",
        "\n",
        "LogReg.fit(Xtrain,Ytrain)\n",
        "\n",
        "predicted_values = LogReg.predict(Xtest)\n",
        "\n",
        "x = metrics.accuracy_score(Ytest, predicted_values)\n",
        "acc.append(x)\n",
        "model.append('Logistic Regression')\n",
        "print(\"Logistic Regression's Accuracy is: \", x)\n",
        "\n",
        "print(classification_report(Ytest,predicted_values))"
      ],
      "metadata": {
        "colab": {
          "base_uri": "https://localhost:8080/"
        },
        "id": "jRhwlRfQ4Zu8",
        "outputId": "bc2539a7-2fe8-47ea-e296-64a28aa703d2"
      },
      "execution_count": 30,
      "outputs": [
        {
          "output_type": "stream",
          "name": "stdout",
          "text": [
            "Logistic Regression's Accuracy is:  0.800200300450676\n",
            "              precision    recall  f1-score   support\n",
            "\n",
            "           0       0.81      0.98      0.88      1557\n",
            "           1       0.69      0.17      0.27       440\n",
            "\n",
            "    accuracy                           0.80      1997\n",
            "   macro avg       0.75      0.57      0.58      1997\n",
            "weighted avg       0.78      0.80      0.75      1997\n",
            "\n"
          ]
        }
      ]
    },
    {
      "cell_type": "code",
      "source": [
        "# RF\n",
        "from sklearn.ensemble import RandomForestClassifier\n",
        "\n",
        "RF = RandomForestClassifier(n_estimators=20, random_state=0)\n",
        "RF.fit(Xtrain,Ytrain)\n",
        "\n",
        "predicted_values = RF.predict(Xtest)\n",
        "\n",
        "x = metrics.accuracy_score(Ytest, predicted_values)\n",
        "acc.append(x)\n",
        "model.append('RF')\n",
        "print(\"RF's Accuracy is: \", x)\n",
        "\n",
        "print(classification_report(Ytest,predicted_values))"
      ],
      "metadata": {
        "colab": {
          "base_uri": "https://localhost:8080/"
        },
        "id": "h-ZQbQXj4b9k",
        "outputId": "78dec306-dbc9-4ca1-f559-2f78754022ec"
      },
      "execution_count": 31,
      "outputs": [
        {
          "output_type": "stream",
          "name": "stdout",
          "text": [
            "RF's Accuracy is:  0.9183775663495243\n",
            "              precision    recall  f1-score   support\n",
            "\n",
            "           0       0.92      0.98      0.95      1557\n",
            "           1       0.92      0.69      0.79       440\n",
            "\n",
            "    accuracy                           0.92      1997\n",
            "   macro avg       0.92      0.84      0.87      1997\n",
            "weighted avg       0.92      0.92      0.91      1997\n",
            "\n"
          ]
        }
      ]
    },
    {
      "cell_type": "code",
      "source": [
        "import xgboost as xgb\n",
        "XB = xgb.XGBClassifier()\n",
        "XB.fit(Xtrain,Ytrain)\n",
        "\n",
        "predicted_values = XB.predict(Xtest)\n",
        "\n",
        "x = metrics.accuracy_score(Ytest, predicted_values)\n",
        "acc.append(x)\n",
        "model.append('XGBoost')\n",
        "print(\"XGBoost's Accuracy is: \", x)"
      ],
      "metadata": {
        "colab": {
          "base_uri": "https://localhost:8080/"
        },
        "id": "-dPq9CNs4ej6",
        "outputId": "2453f7ff-4350-4324-f456-99fd97617f0b"
      },
      "execution_count": 32,
      "outputs": [
        {
          "output_type": "stream",
          "name": "stdout",
          "text": [
            "XGBoost's Accuracy is:  0.9233850776164246\n"
          ]
        }
      ]
    },
    {
      "cell_type": "markdown",
      "source": [
        "# Aritificial Neural Networks"
      ],
      "metadata": {
        "id": "_XqWr0nJ4uLS"
      }
    },
    {
      "cell_type": "code",
      "source": [
        "# feature scaling is a must for deep learning...we must just scale every column..even if they have 1/0/short range values\n",
        "from sklearn.preprocessing import StandardScaler\n",
        "sc = StandardScaler()\n",
        "Xtrain = sc.fit_transform(Xtrain)\n",
        "Xtest = sc.transform(Xtest)# dont fit here....it must be fitted to train range\n",
        "# cuz later u have to transform input and for that gotta us ethis same sc"
      ],
      "metadata": {
        "id": "BhFGjA504g4J"
      },
      "execution_count": 33,
      "outputs": []
    },
    {
      "cell_type": "code",
      "source": [
        "import keras\n",
        "from keras.models import Sequential\n",
        "from keras.layers import Dense\n",
        "from keras.layers import Dropout\n",
        "from keras.layers import BatchNormalization\n",
        "\n",
        "# initializing ann\n",
        "ANN = Sequential()\n",
        "\n",
        "# adding the first input layer and the first hidden layer\n",
        "ANN.add(Dense(11, kernel_initializer = 'normal', activation = 'relu'))\n",
        "\n",
        "# adding batch normalization and dropout layer\n",
        "ANN.add(Dropout(rate = 0.1))\n",
        "ANN.add(BatchNormalization())\n",
        "\n",
        "# adding the third hidden layer\n",
        "ANN.add(Dense(8, kernel_initializer = 'normal', activation = 'relu'))\n",
        "\n",
        "# adding batch normalization and dropout layer\n",
        "ANN.add(Dropout(rate = 0.1))\n",
        "ANN.add(BatchNormalization())\n",
        "\n",
        "# adding the output layer\n",
        "ANN.add(Dense(1, kernel_initializer = 'normal', activation = 'sigmoid'))\n",
        "\n",
        "# compiling the model\n",
        "ANN.compile(optimizer = 'adam', loss = 'binary_crossentropy', metrics = ['accuracy'])\n",
        "\n",
        "# fitting the model to the training set \n",
        "\n",
        "model_history = ANN.fit(Xtrain, Ytrain, validation_split = 0.20, validation_data = (Xtest, Ytest), epochs = 100)"
      ],
      "metadata": {
        "colab": {
          "base_uri": "https://localhost:8080/"
        },
        "id": "FOP1Ruo74jGY",
        "outputId": "b25ef63b-b158-4f1f-a370-9050e46d27c1"
      },
      "execution_count": 34,
      "outputs": [
        {
          "output_type": "stream",
          "name": "stdout",
          "text": [
            "Epoch 1/100\n",
            "200/200 [==============================] - 2s 4ms/step - loss: 0.5645 - accuracy: 0.7642 - val_loss: 0.5358 - val_accuracy: 0.7846\n",
            "Epoch 2/100\n",
            "200/200 [==============================] - 1s 3ms/step - loss: 0.4139 - accuracy: 0.8448 - val_loss: 0.4156 - val_accuracy: 0.8197\n",
            "Epoch 3/100\n",
            "200/200 [==============================] - 1s 3ms/step - loss: 0.3634 - accuracy: 0.8547 - val_loss: 0.3391 - val_accuracy: 0.8691\n",
            "Epoch 4/100\n",
            "200/200 [==============================] - 1s 3ms/step - loss: 0.3537 - accuracy: 0.8574 - val_loss: 0.3226 - val_accuracy: 0.8779\n",
            "Epoch 5/100\n",
            "200/200 [==============================] - 1s 3ms/step - loss: 0.3426 - accuracy: 0.8591 - val_loss: 0.3129 - val_accuracy: 0.8760\n",
            "Epoch 6/100\n",
            "200/200 [==============================] - 1s 3ms/step - loss: 0.3394 - accuracy: 0.8630 - val_loss: 0.3190 - val_accuracy: 0.8741\n",
            "Epoch 7/100\n",
            "200/200 [==============================] - 1s 3ms/step - loss: 0.3366 - accuracy: 0.8608 - val_loss: 0.3089 - val_accuracy: 0.8791\n",
            "Epoch 8/100\n",
            "200/200 [==============================] - 1s 3ms/step - loss: 0.3377 - accuracy: 0.8639 - val_loss: 0.3116 - val_accuracy: 0.8785\n",
            "Epoch 9/100\n",
            "200/200 [==============================] - 1s 3ms/step - loss: 0.3371 - accuracy: 0.8618 - val_loss: 0.3094 - val_accuracy: 0.8741\n",
            "Epoch 10/100\n",
            "200/200 [==============================] - 1s 3ms/step - loss: 0.3309 - accuracy: 0.8627 - val_loss: 0.3091 - val_accuracy: 0.8741\n",
            "Epoch 11/100\n",
            "200/200 [==============================] - 1s 3ms/step - loss: 0.3286 - accuracy: 0.8677 - val_loss: 0.3092 - val_accuracy: 0.8760\n",
            "Epoch 12/100\n",
            "200/200 [==============================] - 1s 3ms/step - loss: 0.3332 - accuracy: 0.8641 - val_loss: 0.3012 - val_accuracy: 0.8835\n",
            "Epoch 13/100\n",
            "200/200 [==============================] - 1s 3ms/step - loss: 0.3280 - accuracy: 0.8652 - val_loss: 0.3061 - val_accuracy: 0.8817\n",
            "Epoch 14/100\n",
            "200/200 [==============================] - 1s 3ms/step - loss: 0.3248 - accuracy: 0.8724 - val_loss: 0.3068 - val_accuracy: 0.8791\n",
            "Epoch 15/100\n",
            "200/200 [==============================] - 1s 3ms/step - loss: 0.3274 - accuracy: 0.8666 - val_loss: 0.3046 - val_accuracy: 0.8791\n",
            "Epoch 16/100\n",
            "200/200 [==============================] - 1s 3ms/step - loss: 0.3321 - accuracy: 0.8638 - val_loss: 0.3007 - val_accuracy: 0.8835\n",
            "Epoch 17/100\n",
            "200/200 [==============================] - 1s 3ms/step - loss: 0.3279 - accuracy: 0.8672 - val_loss: 0.3137 - val_accuracy: 0.8754\n",
            "Epoch 18/100\n",
            "200/200 [==============================] - 1s 3ms/step - loss: 0.3252 - accuracy: 0.8716 - val_loss: 0.3056 - val_accuracy: 0.8779\n",
            "Epoch 19/100\n",
            "200/200 [==============================] - 1s 3ms/step - loss: 0.3294 - accuracy: 0.8690 - val_loss: 0.3128 - val_accuracy: 0.8785\n",
            "Epoch 20/100\n",
            "200/200 [==============================] - 1s 3ms/step - loss: 0.3273 - accuracy: 0.8693 - val_loss: 0.2946 - val_accuracy: 0.8867\n",
            "Epoch 21/100\n",
            "200/200 [==============================] - 1s 3ms/step - loss: 0.3264 - accuracy: 0.8711 - val_loss: 0.2932 - val_accuracy: 0.8873\n",
            "Epoch 22/100\n",
            "200/200 [==============================] - 1s 3ms/step - loss: 0.3240 - accuracy: 0.8711 - val_loss: 0.2916 - val_accuracy: 0.8842\n",
            "Epoch 23/100\n",
            "200/200 [==============================] - 1s 3ms/step - loss: 0.3214 - accuracy: 0.8711 - val_loss: 0.3020 - val_accuracy: 0.8773\n",
            "Epoch 24/100\n",
            "200/200 [==============================] - 1s 3ms/step - loss: 0.3203 - accuracy: 0.8743 - val_loss: 0.2991 - val_accuracy: 0.8854\n",
            "Epoch 25/100\n",
            "200/200 [==============================] - 1s 3ms/step - loss: 0.3235 - accuracy: 0.8724 - val_loss: 0.3125 - val_accuracy: 0.8817\n",
            "Epoch 26/100\n",
            "200/200 [==============================] - 1s 3ms/step - loss: 0.3265 - accuracy: 0.8685 - val_loss: 0.3045 - val_accuracy: 0.8879\n",
            "Epoch 27/100\n",
            "200/200 [==============================] - 1s 3ms/step - loss: 0.3220 - accuracy: 0.8757 - val_loss: 0.3022 - val_accuracy: 0.8804\n",
            "Epoch 28/100\n",
            "200/200 [==============================] - 1s 3ms/step - loss: 0.3195 - accuracy: 0.8719 - val_loss: 0.3040 - val_accuracy: 0.8848\n",
            "Epoch 29/100\n",
            "200/200 [==============================] - 1s 3ms/step - loss: 0.3195 - accuracy: 0.8749 - val_loss: 0.2974 - val_accuracy: 0.8829\n",
            "Epoch 30/100\n",
            "200/200 [==============================] - 1s 3ms/step - loss: 0.3196 - accuracy: 0.8721 - val_loss: 0.3039 - val_accuracy: 0.8810\n",
            "Epoch 31/100\n",
            "200/200 [==============================] - 1s 3ms/step - loss: 0.3130 - accuracy: 0.8790 - val_loss: 0.3015 - val_accuracy: 0.8867\n",
            "Epoch 32/100\n",
            "200/200 [==============================] - 1s 3ms/step - loss: 0.3188 - accuracy: 0.8763 - val_loss: 0.3063 - val_accuracy: 0.8817\n",
            "Epoch 33/100\n",
            "200/200 [==============================] - 1s 3ms/step - loss: 0.3221 - accuracy: 0.8766 - val_loss: 0.3033 - val_accuracy: 0.8804\n",
            "Epoch 34/100\n",
            "200/200 [==============================] - 1s 3ms/step - loss: 0.3150 - accuracy: 0.8779 - val_loss: 0.2991 - val_accuracy: 0.8860\n",
            "Epoch 35/100\n",
            "200/200 [==============================] - 1s 3ms/step - loss: 0.3144 - accuracy: 0.8782 - val_loss: 0.2960 - val_accuracy: 0.8829\n",
            "Epoch 36/100\n",
            "200/200 [==============================] - 1s 3ms/step - loss: 0.3179 - accuracy: 0.8733 - val_loss: 0.3017 - val_accuracy: 0.8860\n",
            "Epoch 37/100\n",
            "200/200 [==============================] - 1s 3ms/step - loss: 0.3163 - accuracy: 0.8751 - val_loss: 0.2932 - val_accuracy: 0.8879\n",
            "Epoch 38/100\n",
            "200/200 [==============================] - 1s 3ms/step - loss: 0.3085 - accuracy: 0.8774 - val_loss: 0.2979 - val_accuracy: 0.8860\n",
            "Epoch 39/100\n",
            "200/200 [==============================] - 1s 3ms/step - loss: 0.3167 - accuracy: 0.8751 - val_loss: 0.3061 - val_accuracy: 0.8842\n",
            "Epoch 40/100\n",
            "200/200 [==============================] - 1s 3ms/step - loss: 0.3155 - accuracy: 0.8773 - val_loss: 0.2978 - val_accuracy: 0.8860\n",
            "Epoch 41/100\n",
            "200/200 [==============================] - 1s 3ms/step - loss: 0.3191 - accuracy: 0.8776 - val_loss: 0.2950 - val_accuracy: 0.8873\n",
            "Epoch 42/100\n",
            "200/200 [==============================] - 1s 7ms/step - loss: 0.3168 - accuracy: 0.8740 - val_loss: 0.2963 - val_accuracy: 0.8835\n",
            "Epoch 43/100\n",
            "200/200 [==============================] - 1s 6ms/step - loss: 0.3206 - accuracy: 0.8744 - val_loss: 0.3031 - val_accuracy: 0.8835\n",
            "Epoch 44/100\n",
            "200/200 [==============================] - 1s 5ms/step - loss: 0.3117 - accuracy: 0.8793 - val_loss: 0.3001 - val_accuracy: 0.8823\n",
            "Epoch 45/100\n",
            "200/200 [==============================] - 1s 4ms/step - loss: 0.3148 - accuracy: 0.8824 - val_loss: 0.3001 - val_accuracy: 0.8779\n",
            "Epoch 46/100\n",
            "200/200 [==============================] - 1s 3ms/step - loss: 0.3147 - accuracy: 0.8771 - val_loss: 0.2996 - val_accuracy: 0.8854\n",
            "Epoch 47/100\n",
            "200/200 [==============================] - 1s 3ms/step - loss: 0.3102 - accuracy: 0.8782 - val_loss: 0.3031 - val_accuracy: 0.8810\n",
            "Epoch 48/100\n",
            "200/200 [==============================] - 1s 3ms/step - loss: 0.3149 - accuracy: 0.8777 - val_loss: 0.2989 - val_accuracy: 0.8860\n",
            "Epoch 49/100\n",
            "200/200 [==============================] - 1s 3ms/step - loss: 0.3157 - accuracy: 0.8765 - val_loss: 0.2987 - val_accuracy: 0.8835\n",
            "Epoch 50/100\n",
            "200/200 [==============================] - 1s 3ms/step - loss: 0.3116 - accuracy: 0.8783 - val_loss: 0.2922 - val_accuracy: 0.8835\n",
            "Epoch 51/100\n",
            "200/200 [==============================] - 1s 3ms/step - loss: 0.3199 - accuracy: 0.8790 - val_loss: 0.2963 - val_accuracy: 0.8842\n",
            "Epoch 52/100\n",
            "200/200 [==============================] - 1s 3ms/step - loss: 0.3170 - accuracy: 0.8779 - val_loss: 0.3011 - val_accuracy: 0.8829\n",
            "Epoch 53/100\n",
            "200/200 [==============================] - 1s 3ms/step - loss: 0.3047 - accuracy: 0.8802 - val_loss: 0.2950 - val_accuracy: 0.8848\n",
            "Epoch 54/100\n",
            "200/200 [==============================] - 1s 3ms/step - loss: 0.3127 - accuracy: 0.8757 - val_loss: 0.2958 - val_accuracy: 0.8879\n",
            "Epoch 55/100\n",
            "200/200 [==============================] - 1s 3ms/step - loss: 0.3057 - accuracy: 0.8801 - val_loss: 0.3031 - val_accuracy: 0.8854\n",
            "Epoch 56/100\n",
            "200/200 [==============================] - 1s 3ms/step - loss: 0.3177 - accuracy: 0.8732 - val_loss: 0.3021 - val_accuracy: 0.8867\n",
            "Epoch 57/100\n",
            "200/200 [==============================] - 1s 3ms/step - loss: 0.3154 - accuracy: 0.8708 - val_loss: 0.2976 - val_accuracy: 0.8879\n",
            "Epoch 58/100\n",
            "200/200 [==============================] - 1s 3ms/step - loss: 0.3126 - accuracy: 0.8798 - val_loss: 0.2904 - val_accuracy: 0.8936\n",
            "Epoch 59/100\n",
            "200/200 [==============================] - 1s 3ms/step - loss: 0.3087 - accuracy: 0.8823 - val_loss: 0.2963 - val_accuracy: 0.8842\n",
            "Epoch 60/100\n",
            "200/200 [==============================] - 1s 3ms/step - loss: 0.3086 - accuracy: 0.8821 - val_loss: 0.2899 - val_accuracy: 0.8867\n",
            "Epoch 61/100\n",
            "200/200 [==============================] - 1s 3ms/step - loss: 0.3113 - accuracy: 0.8785 - val_loss: 0.2957 - val_accuracy: 0.8848\n",
            "Epoch 62/100\n",
            "200/200 [==============================] - 1s 3ms/step - loss: 0.3123 - accuracy: 0.8779 - val_loss: 0.3017 - val_accuracy: 0.8810\n",
            "Epoch 63/100\n",
            "200/200 [==============================] - 1s 3ms/step - loss: 0.3105 - accuracy: 0.8819 - val_loss: 0.2986 - val_accuracy: 0.8842\n",
            "Epoch 64/100\n",
            "200/200 [==============================] - 1s 3ms/step - loss: 0.3116 - accuracy: 0.8787 - val_loss: 0.2991 - val_accuracy: 0.8867\n",
            "Epoch 65/100\n",
            "200/200 [==============================] - 1s 3ms/step - loss: 0.3092 - accuracy: 0.8812 - val_loss: 0.2994 - val_accuracy: 0.8854\n",
            "Epoch 66/100\n",
            "200/200 [==============================] - 1s 3ms/step - loss: 0.3141 - accuracy: 0.8807 - val_loss: 0.2947 - val_accuracy: 0.8892\n",
            "Epoch 67/100\n",
            "200/200 [==============================] - 1s 3ms/step - loss: 0.3070 - accuracy: 0.8815 - val_loss: 0.2931 - val_accuracy: 0.8867\n",
            "Epoch 68/100\n",
            "200/200 [==============================] - 1s 3ms/step - loss: 0.3140 - accuracy: 0.8783 - val_loss: 0.2949 - val_accuracy: 0.8873\n",
            "Epoch 69/100\n",
            "200/200 [==============================] - 1s 3ms/step - loss: 0.3080 - accuracy: 0.8799 - val_loss: 0.2973 - val_accuracy: 0.8848\n",
            "Epoch 70/100\n",
            "200/200 [==============================] - 1s 3ms/step - loss: 0.3119 - accuracy: 0.8774 - val_loss: 0.2976 - val_accuracy: 0.8842\n",
            "Epoch 71/100\n",
            "200/200 [==============================] - 1s 3ms/step - loss: 0.3119 - accuracy: 0.8755 - val_loss: 0.3052 - val_accuracy: 0.8823\n",
            "Epoch 72/100\n",
            "200/200 [==============================] - 1s 3ms/step - loss: 0.3078 - accuracy: 0.8821 - val_loss: 0.2884 - val_accuracy: 0.8854\n",
            "Epoch 73/100\n",
            "200/200 [==============================] - 1s 3ms/step - loss: 0.3158 - accuracy: 0.8755 - val_loss: 0.2910 - val_accuracy: 0.8867\n",
            "Epoch 74/100\n",
            "200/200 [==============================] - 1s 3ms/step - loss: 0.3080 - accuracy: 0.8768 - val_loss: 0.2925 - val_accuracy: 0.8873\n",
            "Epoch 75/100\n",
            "200/200 [==============================] - 1s 3ms/step - loss: 0.3163 - accuracy: 0.8773 - val_loss: 0.3020 - val_accuracy: 0.8860\n",
            "Epoch 76/100\n",
            "200/200 [==============================] - 1s 3ms/step - loss: 0.3207 - accuracy: 0.8754 - val_loss: 0.2962 - val_accuracy: 0.8904\n",
            "Epoch 77/100\n",
            "200/200 [==============================] - 1s 3ms/step - loss: 0.3159 - accuracy: 0.8763 - val_loss: 0.2994 - val_accuracy: 0.8848\n",
            "Epoch 78/100\n",
            "200/200 [==============================] - 1s 3ms/step - loss: 0.3106 - accuracy: 0.8776 - val_loss: 0.3008 - val_accuracy: 0.8860\n",
            "Epoch 79/100\n",
            "200/200 [==============================] - 1s 3ms/step - loss: 0.3063 - accuracy: 0.8776 - val_loss: 0.2930 - val_accuracy: 0.8842\n",
            "Epoch 80/100\n",
            "200/200 [==============================] - 1s 3ms/step - loss: 0.3080 - accuracy: 0.8796 - val_loss: 0.2953 - val_accuracy: 0.8842\n",
            "Epoch 81/100\n",
            "200/200 [==============================] - 1s 3ms/step - loss: 0.3133 - accuracy: 0.8809 - val_loss: 0.2947 - val_accuracy: 0.8842\n",
            "Epoch 82/100\n",
            "200/200 [==============================] - 1s 3ms/step - loss: 0.3107 - accuracy: 0.8782 - val_loss: 0.2969 - val_accuracy: 0.8835\n",
            "Epoch 83/100\n",
            "200/200 [==============================] - 1s 3ms/step - loss: 0.3120 - accuracy: 0.8746 - val_loss: 0.3020 - val_accuracy: 0.8879\n",
            "Epoch 84/100\n",
            "200/200 [==============================] - 1s 3ms/step - loss: 0.3077 - accuracy: 0.8785 - val_loss: 0.2940 - val_accuracy: 0.8860\n",
            "Epoch 85/100\n",
            "200/200 [==============================] - 1s 3ms/step - loss: 0.3172 - accuracy: 0.8758 - val_loss: 0.2989 - val_accuracy: 0.8779\n",
            "Epoch 86/100\n",
            "200/200 [==============================] - 1s 3ms/step - loss: 0.3174 - accuracy: 0.8776 - val_loss: 0.3069 - val_accuracy: 0.8779\n",
            "Epoch 87/100\n",
            "200/200 [==============================] - 1s 3ms/step - loss: 0.3124 - accuracy: 0.8762 - val_loss: 0.3063 - val_accuracy: 0.8804\n",
            "Epoch 88/100\n",
            "200/200 [==============================] - 1s 3ms/step - loss: 0.3110 - accuracy: 0.8780 - val_loss: 0.2909 - val_accuracy: 0.8910\n",
            "Epoch 89/100\n",
            "200/200 [==============================] - 1s 3ms/step - loss: 0.3038 - accuracy: 0.8809 - val_loss: 0.2936 - val_accuracy: 0.8860\n",
            "Epoch 90/100\n",
            "200/200 [==============================] - 1s 3ms/step - loss: 0.3106 - accuracy: 0.8768 - val_loss: 0.2959 - val_accuracy: 0.8860\n",
            "Epoch 91/100\n",
            "200/200 [==============================] - 1s 3ms/step - loss: 0.3104 - accuracy: 0.8796 - val_loss: 0.2981 - val_accuracy: 0.8860\n",
            "Epoch 92/100\n",
            "200/200 [==============================] - 1s 3ms/step - loss: 0.3064 - accuracy: 0.8805 - val_loss: 0.2949 - val_accuracy: 0.8904\n",
            "Epoch 93/100\n",
            "200/200 [==============================] - 1s 3ms/step - loss: 0.3116 - accuracy: 0.8757 - val_loss: 0.2922 - val_accuracy: 0.8873\n",
            "Epoch 94/100\n",
            "200/200 [==============================] - 1s 3ms/step - loss: 0.3145 - accuracy: 0.8769 - val_loss: 0.2969 - val_accuracy: 0.8835\n",
            "Epoch 95/100\n",
            "200/200 [==============================] - 1s 3ms/step - loss: 0.3146 - accuracy: 0.8777 - val_loss: 0.2932 - val_accuracy: 0.8873\n",
            "Epoch 96/100\n",
            "200/200 [==============================] - 1s 3ms/step - loss: 0.3103 - accuracy: 0.8773 - val_loss: 0.2954 - val_accuracy: 0.8829\n",
            "Epoch 97/100\n",
            "200/200 [==============================] - 1s 3ms/step - loss: 0.3070 - accuracy: 0.8813 - val_loss: 0.2897 - val_accuracy: 0.8867\n",
            "Epoch 98/100\n",
            "200/200 [==============================] - 1s 3ms/step - loss: 0.3116 - accuracy: 0.8809 - val_loss: 0.3096 - val_accuracy: 0.8804\n",
            "Epoch 99/100\n",
            "200/200 [==============================] - 1s 3ms/step - loss: 0.3105 - accuracy: 0.8782 - val_loss: 0.2998 - val_accuracy: 0.8835\n",
            "Epoch 100/100\n",
            "200/200 [==============================] - 1s 3ms/step - loss: 0.3132 - accuracy: 0.8758 - val_loss: 0.2936 - val_accuracy: 0.8835\n"
          ]
        }
      ]
    },
    {
      "cell_type": "code",
      "source": [
        "plt.figure(figsize = (12, 6))\n",
        "\n",
        "train_loss = model_history.history['loss']\n",
        "val_loss = model_history.history['val_loss'] \n",
        "epoch = range(1, 101)\n",
        "sns.lineplot(epoch, train_loss, label = 'Training Loss')\n",
        "sns.lineplot(epoch, val_loss, label = 'Validation Loss')\n",
        "plt.title('Training and Validation Loss\\n')\n",
        "plt.xlabel('Epochs')\n",
        "plt.ylabel('Loss')\n",
        "plt.legend()\n",
        "plt.show()"
      ],
      "metadata": {
        "colab": {
          "base_uri": "https://localhost:8080/",
          "height": 419
        },
        "id": "5yb6Sfmb4zed",
        "outputId": "043ce0b1-3d0a-4158-fc57-315606154b26"
      },
      "execution_count": 35,
      "outputs": [
        {
          "output_type": "display_data",
          "data": {
            "text/plain": [
              "<Figure size 864x432 with 1 Axes>"
            ],
            "image/png": "[encoded data removed]"
          },
          "metadata": {
            "needs_background": "light"
          }
        }
      ]
    },
    {
      "cell_type": "code",
      "source": [
        "plt.figure(figsize = (12, 6))\n",
        "\n",
        "train_loss = model_history.history['accuracy']\n",
        "val_loss = model_history.history['val_accuracy'] \n",
        "epoch = range(1, 101)\n",
        "sns.lineplot(epoch, train_loss, label = 'Training accuracy')\n",
        "sns.lineplot(epoch, val_loss, label = 'Validation accuracy')\n",
        "plt.title('Training and Validation Accuracy\\n')\n",
        "plt.xlabel('Epochs')\n",
        "plt.ylabel('Accuracy')\n",
        "plt.legend()\n",
        "plt.show()"
      ],
      "metadata": {
        "colab": {
          "base_uri": "https://localhost:8080/",
          "height": 419
        },
        "id": "-B4Y4d6C5Ca5",
        "outputId": "660706f0-e92f-4317-89a4-bd1d1f562973"
      },
      "execution_count": 36,
      "outputs": [
        {
          "output_type": "display_data",
          "data": {
            "text/plain": [
              "<Figure size 864x432 with 1 Axes>"
            ],
            "image/png": "[encoded data removed]"
          },
          "metadata": {
            "needs_background": "light"
          }
        }
      ]
    },
    {
      "cell_type": "code",
      "source": [
        "y_pred = ANN.predict(Xtest) \n",
        "y_pred = (y_pred > 0.5)\n",
        "print(np.concatenate((y_pred.reshape(len(y_pred),1), Ytest.reshape(len(Ytest),1)),1))"
      ],
      "metadata": {
        "colab": {
          "base_uri": "https://localhost:8080/"
        },
        "id": "YboawUit8q0N",
        "outputId": "ed1b2a96-cdc1-4087-a06f-ac1994a6bea1"
      },
      "execution_count": 37,
      "outputs": [
        {
          "output_type": "stream",
          "name": "stdout",
          "text": [
            "[[0 0]\n",
            " [0 0]\n",
            " [0 0]\n",
            " ...\n",
            " [0 0]\n",
            " [0 0]\n",
            " [0 0]]\n"
          ]
        }
      ]
    },
    {
      "cell_type": "code",
      "source": [
        "from sklearn.metrics import confusion_matrix, accuracy_score\n",
        "cm = confusion_matrix(Ytest, y_pred)\n",
        "print(cm)\n",
        "print(accuracy_score(Ytest, y_pred))"
      ],
      "metadata": {
        "colab": {
          "base_uri": "https://localhost:8080/"
        },
        "id": "CXfJ741K5Nx9",
        "outputId": "247a60e6-cf51-403c-8920-ac7f8d1fdc1a"
      },
      "execution_count": 38,
      "outputs": [
        {
          "output_type": "stream",
          "name": "stdout",
          "text": [
            "[[1534   23]\n",
            " [ 210  230]]\n",
            "0.8833249874812218\n"
          ]
        }
      ]
    },
    {
      "cell_type": "code",
      "source": [
        "acc.append(accuracy_score(Ytest, y_pred))\n",
        "model.append('ANN')"
      ],
      "metadata": {
        "id": "FMKwDuJj9NzJ"
      },
      "execution_count": 39,
      "outputs": []
    },
    {
      "cell_type": "markdown",
      "source": [
        "# Accuracy Comparision"
      ],
      "metadata": {
        "id": "48-uGnDt5RgG"
      }
    },
    {
      "cell_type": "code",
      "source": [
        "plt.figure(figsize=[10,5],dpi = 100)\n",
        "plt.title('Accuracy Comparison')\n",
        "plt.xlabel('Accuracy')\n",
        "plt.ylabel('Algorithm')\n",
        "sns.barplot(x = acc,y = model,palette='dark')"
      ],
      "metadata": {
        "colab": {
          "base_uri": "https://localhost:8080/",
          "height": 498
        },
        "id": "KFADXokI9qDB",
        "outputId": "605e96d1-3538-4b6f-fbf5-70d1121edfac"
      },
      "execution_count": 40,
      "outputs": [
        {
          "output_type": "execute_result",
          "data": {
            "text/plain": [
              "<matplotlib.axes._subplots.AxesSubplot at 0x7f00cdf503d0>"
            ]
          },
          "metadata": {},
          "execution_count": 40
        },
        {
          "output_type": "display_data",
          "data": {
            "text/plain": [
              "<Figure size 1000x500 with 1 Axes>"
            ],
            "image/png": "[encoded data removed]"
          },
          "metadata": {
            "needs_background": "light"
          }
        }
      ]
    },
    {
      "cell_type": "code",
      "source": [
        "accuracy_models = dict(zip(model, acc))\n",
        "for k, v in accuracy_models.items():\n",
        "    print (k, '-->', v)"
      ],
      "metadata": {
        "colab": {
          "base_uri": "https://localhost:8080/"
        },
        "id": "vI7kgPiC95rF",
        "outputId": "f49ca557-a46c-4500-e45a-fdfa730b4070"
      },
      "execution_count": 41,
      "outputs": [
        {
          "output_type": "stream",
          "name": "stdout",
          "text": [
            "Decision Tree --> 0.9113670505758638\n",
            "Naive Bayes --> 0.8367551326990486\n",
            "SVM --> 0.8743114672008012\n",
            "Logistic Regression --> 0.800200300450676\n",
            "RF --> 0.9183775663495243\n",
            "XGBoost --> 0.9233850776164246\n",
            "ANN --> 0.8833249874812218\n"
          ]
        }
      ]
    },
    {
      "cell_type": "code",
      "source": [
        "!pip install shap"
      ],
      "metadata": {
        "colab": {
          "base_uri": "https://localhost:8080/"
        },
        "id": "t6mxEi4g998w",
        "outputId": "42b96a8c-be36-434f-8853-f2cefde9b23f"
      },
      "execution_count": 42,
      "outputs": [
        {
          "output_type": "stream",
          "name": "stdout",
          "text": [
            "Looking in indexes: https://pypi.org/simple, https://us-python.pkg.dev/colab-wheels/public/simple/\n",
            "Requirement already satisfied: shap in /usr/local/lib/python3.7/dist-packages (0.41.0)\n",
            "Requirement already satisfied: packaging>20.9 in /usr/local/lib/python3.7/dist-packages (from shap) (21.3)\n",
            "Requirement already satisfied: cloudpickle in /usr/local/lib/python3.7/dist-packages (from shap) (1.3.0)\n",
            "Requirement already satisfied: pandas in /usr/local/lib/python3.7/dist-packages (from shap) (1.3.5)\n",
            "Requirement already satisfied: slicer==0.0.7 in /usr/local/lib/python3.7/dist-packages (from shap) (0.0.7)\n",
            "Requirement already satisfied: numpy in /usr/local/lib/python3.7/dist-packages (from shap) (1.21.6)\n",
            "Requirement already satisfied: scipy in /usr/local/lib/python3.7/dist-packages (from shap) (1.7.3)\n",
            "Requirement already satisfied: numba in /usr/local/lib/python3.7/dist-packages (from shap) (0.56.0)\n",
            "Requirement already satisfied: tqdm>4.25.0 in /usr/local/lib/python3.7/dist-packages (from shap) (4.64.0)\n",
            "Requirement already satisfied: scikit-learn in /usr/local/lib/python3.7/dist-packages (from shap) (1.0.2)\n",
            "Requirement already satisfied: pyparsing!=3.0.5,>=2.0.2 in /usr/local/lib/python3.7/dist-packages (from packaging>20.9->shap) (3.0.9)\n",
            "Requirement already satisfied: setuptools in /usr/local/lib/python3.7/dist-packages (from numba->shap) (57.4.0)\n",
            "Requirement already satisfied: importlib-metadata in /usr/local/lib/python3.7/dist-packages (from numba->shap) (4.12.0)\n",
            "Requirement already satisfied: llvmlite<0.40,>=0.39.0dev0 in /usr/local/lib/python3.7/dist-packages (from numba->shap) (0.39.0)\n",
            "Requirement already satisfied: zipp>=0.5 in /usr/local/lib/python3.7/dist-packages (from importlib-metadata->numba->shap) (3.8.1)\n",
            "Requirement already satisfied: typing-extensions>=3.6.4 in /usr/local/lib/python3.7/dist-packages (from importlib-metadata->numba->shap) (4.1.1)\n",
            "Requirement already satisfied: python-dateutil>=2.7.3 in /usr/local/lib/python3.7/dist-packages (from pandas->shap) (2.8.2)\n",
            "Requirement already satisfied: pytz>=2017.3 in /usr/local/lib/python3.7/dist-packages (from pandas->shap) (2022.1)\n",
            "Requirement already satisfied: six>=1.5 in /usr/local/lib/python3.7/dist-packages (from python-dateutil>=2.7.3->pandas->shap) (1.15.0)\n",
            "Requirement already satisfied: threadpoolctl>=2.0.0 in /usr/local/lib/python3.7/dist-packages (from scikit-learn->shap) (3.1.0)\n",
            "Requirement already satisfied: joblib>=0.11 in /usr/local/lib/python3.7/dist-packages (from scikit-learn->shap) (1.1.0)\n"
          ]
        }
      ]
    },
    {
      "cell_type": "code",
      "source": [
        "import shap"
      ],
      "metadata": {
        "id": "_GK96pYy-EiP"
      },
      "execution_count": 43,
      "outputs": []
    },
    {
      "cell_type": "code",
      "source": [
        "# Create object that can calculate shap values\n",
        "explainer = shap.TreeExplainer(XB)\n",
        "\n",
        "# calculate shap values. This is what we will plot.\n",
        "# Calculate shap_values for all of val_X rather than a single row, to have more data for plot.\n",
        "shap_values = explainer.shap_values(Xtest)\n",
        "\n",
        "# Make plot. Index of [1] is explained in text below.\n",
        "shap.summary_plot(shap_values, Xtest, feature_names = ['person_age', 'person_income', 'person_home_ownership', 'person_emp_length', 'loan_intent', 'loan_grade', 'loan_amnt', 'loan_int_rate', 'loan_percent_income', 'cb_person_default_on_file', 'cb_person_cred_hist_length'])"
      ],
      "metadata": {
        "colab": {
          "base_uri": "https://localhost:8080/",
          "height": 350
        },
        "id": "UOoWewLYvabh",
        "outputId": "25dd202e-4bcc-4465-8456-3969d59d770f"
      },
      "execution_count": 44,
      "outputs": [
        {
          "output_type": "execute_result",
          "data": {
            "text/plain": [
              "<IPython.core.display.Image object>"
            ],
            "image/png": "[encoded data removed]"
          },
          "metadata": {},
          "execution_count": 44
        }
      ]
    }
  ],
  "metadata": {
    "colab": {
      "name": "Loan Repayment prediction.ipynb",
      "provenance": []
    },
    "kernelspec": {
      "display_name": "Python 3",
      "name": "python3"
    },
    "language_info": {
      "name": "python"
    }
  },
  "nbformat": 4,
  "nbformat_minor": 0
}